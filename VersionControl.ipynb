{
 "cells": [
  {
   "cell_type": "code",
   "source": [
    "name = input(\"Input a name\") #Asks user for name\n",
    "letter = input(\"Input a letter\") #Asks user for a random letter\n",
    "name_length = len(name) # Gets the length of the name\n",
    "def letterIn(name,letter): # Checks if inputed letter is in the name, if so, then returns true\n",
    "    if letter in name: # Checks each character in name to see if it is in letter\n",
    "        return True # If one is found, then return True\n",
    "if letterIn(name,letter): # If letter in string, then\n",
    "    print(\"The letter \" + letter+ \" is in the \" + str(name_length) + \" character long name \"+ name) # Prints string saying that letter is in name with the size of name.\n",
    "else:                     # if not, then\n",
    "    print(\"The letter \" + letter+ \" is not in the \" + str(name_length) + \" character long name \"+ name) # Prints string saying that letter is not in name with the size of name."
   ]
  }
 ],
 "metadata": {
  "kernelspec": {
   "display_name": "Python 3",
   "language": "python",
   "name": "python3"
  },
  "language_info": {
   "codemirror_mode": {
    "name": "ipython",
    "version": 3
   },
   "file_extension": ".py",
   "mimetype": "text/x-python",
   "name": "python",
   "nbconvert_exporter": "python",
   "pygments_lexer": "ipython3",
   "version": "3.8.3"
  }
 },
 "nbformat": 4,
 "nbformat_minor": 4
}
