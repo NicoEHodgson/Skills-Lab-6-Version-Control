{
 "cells": [
  {
   "cell_type": "code",
   "execution_count": 3,
   "metadata": {},
   "outputs": [
    {
     "name": "stdin",
     "output_type": "stream",
     "text": [
      "Input a name Nio\n",
      "Input a letter a\n"
     ]
    },
    {
     "name": "stdout",
     "output_type": "stream",
     "text": [
      "The letter a is not in the name Nio\n"
     ]
    }
   ],
   "source": [
    "name = input(\"Input a name\")\n",
    "letter = input(\"Input a letter\")\n",
    "def letterIn(name,letter):\n",
    "    if letter in name:\n",
    "        return True\n",
    "if letterIn(name,letter):\n",
    "    print(\"The letter \" + letter+ \" is in the name \"+ name)\n",
    "else:\n",
    "    print(\"The letter \" + letter+ \" is not in the name \"+ name)"
   ]
  },
  {
   "cell_type": "code",
   "execution_count": null,
   "metadata": {},
   "outputs": [],
   "source": []
  }
 ],
 "metadata": {
  "kernelspec": {
   "display_name": "Python 3",
   "language": "python",
   "name": "python3"
  },
  "language_info": {
   "codemirror_mode": {
    "name": "ipython",
    "version": 3
   },
   "file_extension": ".py",
   "mimetype": "text/x-python",
   "name": "python",
   "nbconvert_exporter": "python",
   "pygments_lexer": "ipython3",
   "version": "3.8.3"
  }
 },
 "nbformat": 4,
 "nbformat_minor": 4
}
